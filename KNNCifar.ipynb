{
  "nbformat": 4,
  "nbformat_minor": 0,
  "metadata": {
    "colab": {
      "name": "KNNCifar.ipynb",
      "provenance": [],
      "collapsed_sections": [],
      "authorship_tag": "ABX9TyPaFPcT/vYqnfPB1NbQa3Uy",
      "include_colab_link": true
    },
    "kernelspec": {
      "name": "python3",
      "display_name": "Python 3"
    }
  },
  "cells": [
    {
      "cell_type": "markdown",
      "metadata": {
        "id": "view-in-github",
        "colab_type": "text"
      },
      "source": [
        "<a href=\"https://colab.research.google.com/github/anupampani123/KNNCifar10/blob/main/KNNCifar.ipynb\" target=\"_parent\"><img src=\"https://colab.research.google.com/assets/colab-badge.svg\" alt=\"Open In Colab\"/></a>"
      ]
    },
    {
      "cell_type": "code",
      "metadata": {
        "id": "0czfRHzaLtiv"
      },
      "source": [
        "#CS231 KNN\n",
        "import numpy as np\n",
        "\n",
        "\n",
        "class NearestNeighbor(object):\n",
        "\n",
        "\n",
        "  # def partition(array, begin, end):\n",
        "  #   pivot = begin\n",
        "  #   for i in xrange(begin+1, end+1):\n",
        "  #       if array[i] <= array[begin]:\n",
        "  #           pivot += 1\n",
        "  #           array[i], array[pivot] = array[pivot], array[i]\n",
        "  #   array[pivot], array[begin] = array[begin], array[pivot]\n",
        "  #   return pivot\n",
        "\n",
        "\n",
        "\n",
        "  # def quicksort(array, begin=0, end=None):\n",
        "  #     if end is None:\n",
        "  #         end = len(array) - 1\n",
        "  #     def _quicksort(array, begin, end):\n",
        "  #         if begin >= end:\n",
        "  #             return\n",
        "  #         pivot = partition(array, begin, end)\n",
        "  #         _quicksort(array, begin, pivot-1)\n",
        "  #         _quicksort(array, pivot+1, end)\n",
        "  #     return _quicksort(array, begin, end)\n",
        "\n",
        "  def _init_(self):\n",
        "    pass\n",
        "\n",
        "  def train(self,X,y):\n",
        "    self.Xtr=X;\n",
        "    self.ytr=y;\n",
        "\n",
        "  def get_predictions(self,X,number):\n",
        "    num_test=X.shape[0];\n",
        "    \n",
        "    for i in range(num_test):\n",
        "      distances = np.sum(np.abs(self.Xtr - X[i,:]), axis = 1)\n",
        "      neighbors = np.zeros(number, dtype = self.ytr.dtype)\n",
        "      prediction=list();\n",
        "      hold=-2;\n",
        "      for j in range(number):\n",
        "        min_index=np.argmin(distances);\n",
        "        if(hold>=0 & min_index>=hold):\n",
        "          min_index=min_index+1;\n",
        "        neighbors[j]=self.ytr[min_index]\n",
        "        distances=distances[distances!=distances[min_index]]\n",
        "        hold=min_index;\n",
        "\n",
        "      check2=list(neighbors)  \n",
        "      np.append(prediction,max(set(check2), key=check2.count))\n",
        "\n",
        "\n",
        "    return prediction\n",
        "      \n",
        "\n",
        "\n",
        "      \n",
        "\n",
        "\n",
        "\n",
        "\n"
      ],
      "execution_count": null,
      "outputs": []
    },
    {
      "cell_type": "code",
      "metadata": {
        "id": "tE3y7be7WT64"
      },
      "source": [
        "from tensorflow.keras.datasets import cifar10\n",
        "((Xtr, trainY), (Xte, testY)) = cifar10.load_data()\n",
        "\n"
      ],
      "execution_count": null,
      "outputs": []
    },
    {
      "cell_type": "code",
      "metadata": {
        "id": "U_SqWDGuoNYy"
      },
      "source": [
        "Xtr_rows = Xtr.reshape(Xtr.shape[0], 32 * 32 * 3) # Xtr_rows becomes 50000 x 3072\n",
        "Xte_rows = Xte.reshape(Xte.shape[0], 32 * 32 * 3)"
      ],
      "execution_count": null,
      "outputs": []
    },
    {
      "cell_type": "code",
      "metadata": {
        "id": "pgnV1xKhX24P"
      },
      "source": [
        "nn=NearestNeighbor();\n",
        "nn.train(Xtr_rows,trainY);\n",
        "k=5;\n",
        "Yvalues=nn.get_predictions(Xte_rows,k);\n",
        "\n",
        "acc = np.mean(Yval_predict == Yvalues)\n",
        "print ('accuracy: %f' % (acc,))\n",
        "\n",
        "\n"
      ],
      "execution_count": null,
      "outputs": []
    }
  ]
}