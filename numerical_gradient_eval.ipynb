{
  "nbformat": 4,
  "nbformat_minor": 0,
  "metadata": {
    "colab": {
      "name": "numerical_gradient_eval.ipynb",
      "provenance": [],
      "authorship_tag": "ABX9TyPm7rxphQlSkIYxSKel1Irn",
      "include_colab_link": true
    },
    "kernelspec": {
      "name": "python3",
      "display_name": "Python 3"
    }
  },
  "cells": [
    {
      "cell_type": "markdown",
      "metadata": {
        "id": "view-in-github",
        "colab_type": "text"
      },
      "source": [
        "<a href=\"https://colab.research.google.com/github/anupampani123/KNNCifar10/blob/main/numerical_gradient_eval.ipynb\" target=\"_parent\"><img src=\"https://colab.research.google.com/assets/colab-badge.svg\" alt=\"Open In Colab\"/></a>"
      ]
    },
    {
      "cell_type": "code",
      "metadata": {
        "id": "frD18stnhvFx"
      },
      "source": [
        "#Optimization \n",
        "#numerical gradient (slower but more accurate)\n",
        "\n",
        "def eval_numerical_gradient(f,x):\n",
        "  #f is function, x is point , f is a function which takes only a single argument\n",
        "  # x is numpy array \n",
        "  fx=f(x)\n",
        "  grad=np.zeroes(x.shape)\n",
        "  h=00000.1 #h should tend to 0\n",
        "\n",
        "  it = np.nditer(x, flags=['multi_index'], op_flags=['readwrite']) #similar to iterator in java\n",
        "  while not it.finished:   #similar to iter.hasNext();\n",
        "\n",
        "    # evaluate function at x+h\n",
        "\n",
        "\n",
        "    ix = it.multi_index\n",
        "    old_value = x[ix]\n",
        "    x[ix] = old_value + h # increment by h\n",
        "    fxh = f(x) # evalute f(x + h)\n",
        "    x[ix] = old_value # restore to previous value (very important!)\n",
        "\n",
        "    # compute the partial derivative\n",
        "    grad[ix] = (fxh - fx) / h # the slope\n",
        "    it.iternext() # step to next dimension\n",
        "\n",
        "  return grad\n",
        "\n",
        "\n"
      ],
      "execution_count": null,
      "outputs": []
    }
  ]
}